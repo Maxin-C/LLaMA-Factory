{
 "cells": [
  {
   "cell_type": "code",
   "execution_count": 7,
   "metadata": {},
   "outputs": [],
   "source": [
    "import os\n",
    "import json\n",
    "from eval_matrix import EvalMatrixChoice"
   ]
  },
  {
   "cell_type": "code",
   "execution_count": 15,
   "metadata": {},
   "outputs": [],
   "source": [
    "def get_ref_pred(factory_dir):\n",
    "    ref = []\n",
    "    pred = []\n",
    "    with open(os.path.join(factory_dir, \"generated_predictions.jsonl\")) as file:\n",
    "        for line in file:\n",
    "            result = json.loads(line)\n",
    "            ref.append(result['label'].replace(\"\\n \",\"\"))\n",
    "            pred.append(result['predict'].replace(\"\\n \",\"\"))\n",
    "    return ref, pred"
   ]
  },
  {
   "cell_type": "code",
   "execution_count": 17,
   "metadata": {},
   "outputs": [],
   "source": [
    "def bcexam_formatter(factory_dir, target_dir):\n",
    "    cutoff = 489\n",
    "    ref, pred = get_ref_pred(factory_dir)\n",
    "    simple_ref = ref[:cutoff]\n",
    "    middle_ref = ref[cutoff:]\n",
    "    simple_pred = pred[:cutoff]\n",
    "    middle_pred = pred[cutoff:]\n",
    "    simple_single_ref = []\n",
    "    simple_multi_ref = []\n",
    "    middle_single_ref = []\n",
    "    middle_multi_ref = []\n",
    "    simple_single_pred = []\n",
    "    simple_multi_pred = []\n",
    "    middle_single_pred = []\n",
    "    middle_multi_pred = []\n",
    "    \n",
    "    for i in range(len(simple_ref)):\n",
    "        if len(simple_ref[i]) == 1:\n",
    "            simple_single_ref.append(simple_ref[i])\n",
    "            simple_single_pred.append(simple_pred[i])\n",
    "        else:\n",
    "            simple_multi_ref.append(simple_ref[i])\n",
    "            simple_multi_pred.append(simple_pred[i])\n",
    "    \n",
    "    for i in range(len(middle_ref)):\n",
    "        if len(simple_ref[i]) == 1:\n",
    "            middle_single_ref.append(middle_ref[i])\n",
    "            middle_single_pred.append(middle_pred[i])\n",
    "        else:\n",
    "            middle_multi_ref.append(middle_ref[i])\n",
    "            middle_multi_pred.append(middle_pred[i])\n",
    "\n",
    "    eval_matrix = EvalMatrixChoice()\n",
    "\n",
    "    result = {\n",
    "        \"simple\": eval_matrix.compute(simple_pred, simple_ref),\n",
    "        \"simple_single\": eval_matrix.compute(simple_single_pred, simple_single_ref),\n",
    "        \"simple_multi\": eval_matrix.compute(simple_multi_pred, simple_multi_ref),\n",
    "        \"middle\": eval_matrix.compute(middle_pred, middle_ref),\n",
    "        \"middle_single\": eval_matrix.compute(middle_single_pred, middle_single_ref),\n",
    "        \"middle_multi\": eval_matrix.compute(middle_multi_pred, middle_multi_ref),\n",
    "    }\n",
    "\n",
    "    if not os.path.exists(target_dir):\n",
    "        os.makedirs(target_dir)\n",
    "    \n",
    "    with open(os.path.join(target_dir, \"result.json\"), 'w', encoding='utf-8') as file:\n",
    "        json.dump(result, file)"
   ]
  },
  {
   "cell_type": "code",
   "execution_count": 23,
   "metadata": {},
   "outputs": [],
   "source": [
    "bcexam_formatter(\"/mnt/pvc-data.common/ChenZikang/codes/LLaMA-Factory/saves/Qwen1.5-7B/lora/eval_2024-10-24-07-15-39\",\"/mnt/pvc-data.common/ChenZikang/codes/mm-BRAG/output/exam_graded/qwen-2.5/lora/usmle-2\")"
   ]
  }
 ],
 "metadata": {
  "kernelspec": {
   "display_name": "brag",
   "language": "python",
   "name": "python3"
  },
  "language_info": {
   "codemirror_mode": {
    "name": "ipython",
    "version": 3
   },
   "file_extension": ".py",
   "mimetype": "text/x-python",
   "name": "python",
   "nbconvert_exporter": "python",
   "pygments_lexer": "ipython3",
   "version": "3.10.15"
  }
 },
 "nbformat": 4,
 "nbformat_minor": 2
}
