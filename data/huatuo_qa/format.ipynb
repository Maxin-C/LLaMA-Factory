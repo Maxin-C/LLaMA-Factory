{
 "cells": [
  {
   "cell_type": "code",
   "execution_count": 1,
   "metadata": {},
   "outputs": [],
   "source": [
    "import json"
   ]
  },
  {
   "cell_type": "code",
   "execution_count": 2,
   "metadata": {},
   "outputs": [],
   "source": [
    "with open(\"/root/lanyun-tmp/MiniCPM-V/finetune/dataset/huatuo_qa_filttered.json\", 'r') as file:\n",
    "    corpus = json.load(file)\n",
    "train_set = corpus['train']\n",
    "eval_set = corpus['eval']\n",
    "test_set = corpus['test']"
   ]
  },
  {
   "cell_type": "code",
   "execution_count": 3,
   "metadata": {},
   "outputs": [],
   "source": [
    "def format_to_llama(dataset):\n",
    "    formatted_dataset = []\n",
    "    for i, data in enumerate(dataset):\n",
    "        formatted_dataset.append(\n",
    "            {\n",
    "                \"instruction\": \"请作为一名乳腺癌专科医生，回答以下问题\",\n",
    "                \"input\": data['question'],\n",
    "                \"output\": data['answer'],\n",
    "                \"system\": \"\",\n",
    "                \"history\": []\n",
    "            }\n",
    "        )\n",
    "    return formatted_dataset"
   ]
  },
  {
   "cell_type": "code",
   "execution_count": 4,
   "metadata": {},
   "outputs": [],
   "source": [
    "formatted_train_set = format_to_llama(train_set)\n",
    "formatted_eval_set = format_to_llama(eval_set)\n",
    "formatted_test_set = format_to_llama(test_set)"
   ]
  },
  {
   "cell_type": "code",
   "execution_count": 5,
   "metadata": {},
   "outputs": [],
   "source": [
    "with open(\"huatuo_qa_train.json\", 'w', encoding='utf-8') as file:\n",
    "    json.dump(formatted_train_set, file, ensure_ascii=False)\n",
    "with open(\"huatuo_qa_eval.json\", 'w', encoding='utf-8') as file:\n",
    "    json.dump(formatted_eval_set, file, ensure_ascii=False)\n",
    "with open(\"huatuo_qa_test.json\", 'w', encoding='utf-8') as file:\n",
    "    json.dump(formatted_test_set, file, ensure_ascii=False)"
   ]
  }
 ],
 "metadata": {
  "kernelspec": {
   "display_name": "llama_factory",
   "language": "python",
   "name": "python3"
  },
  "language_info": {
   "codemirror_mode": {
    "name": "ipython",
    "version": 3
   },
   "file_extension": ".py",
   "mimetype": "text/x-python",
   "name": "python",
   "nbconvert_exporter": "python",
   "pygments_lexer": "ipython3",
   "version": "3.10.15"
  }
 },
 "nbformat": 4,
 "nbformat_minor": 2
}
